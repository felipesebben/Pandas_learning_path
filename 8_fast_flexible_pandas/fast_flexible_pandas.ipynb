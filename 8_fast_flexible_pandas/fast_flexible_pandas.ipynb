{
 "cells": [
  {
   "attachments": {},
   "cell_type": "markdown",
   "metadata": {},
   "source": [
    "<h1><b>Fast, Flexible, Easy and Intuitive: How to Speed Up Your pandas Projects</b></h1>\n",
    "<p>In this notebook, I will be covering an important concept that users must know once they get acquainted with Pandas: the <code>SettingWithCopyWarning</code> issue. As a beginner, I would often disregard this sign as the outcome of the code would not necessarily change (apparently). Now, there are <b>shallow copies</b> and <b>deep copies</b>, notions that are related to the aforementioned warning. I'll discuss the difference between these concepts as well as assessing the impact of their use in data analysis.</p>\n",
    "<p>By the end of this notebook, I hope to have covered the following topics:</p>\n",
    "<ul>\n",
    "    <li>The definition of <b>views</b> and <b>copies</b> in NumPy and Pandas</li>\n",
    "    <li>How to work with views and copies in these libraries</li>\n",
    "    <li>Why <code>SettingWithCopyWarning</code> happens in Pandas</li>\n",
    "    <li>How to avoid getting a <code>SettingWithCopyWarning</code> in Pandas</li>\n",
    "</ul>\n",
    "\n",
    "<h2><b>Table of Contents</b></h2>\n",
    "<ul>\n",
    "<li>Introduction</li>\n",
    "<li>Import Libraries and the Data</li>\n",
    "<li>Saving Time With Datetime Data</li>\n",
    "<li>Simple Looping Over pandas Data</li>\n",
    "<li>Looping with .itertuples() and <code>.iterrows()</code></li>\n",
    "<li>pandas’ <code>.apply()</code></li>\n",
    "<li>Selecting Data With <code>.isin()</code></li>\n",
    "<li>Can We Do Better?</li>\n",
    "<li>Don’t Forget NumPy!</li>\n",
    "<li>Prevent Reprocessing with HDFStore</li>\n",
    "<li>Conclusions</li>\n",
    "</ul>\n",
    "<hr>\n",
    "<h2><b>1. Introduction</b></h2>\n",
    "<hr>\n",
    "<h2><b>2. Import libraries and the data</b></h2>"
   ]
  },
  {
   "cell_type": "code",
   "execution_count": 1,
   "metadata": {},
   "outputs": [],
   "source": [
    "import pandas as pd\n",
    "import os\n",
    "import time\n",
    "import functools\n",
    "import gc\n",
    "import itertools\n",
    "import sys\n",
    "import numpy as np\n",
    "from timeit import default_timer as _timer"
   ]
  },
  {
   "cell_type": "code",
   "execution_count": 2,
   "metadata": {},
   "outputs": [
    {
     "name": "stdout",
     "output_type": "stream",
     "text": [
      "c:\\Users\\Felipe\\python_work\\notebooks\\py_pandas\\8_fast_flexible_pandas\n"
     ]
    }
   ],
   "source": [
    "path = os.getcwd()\n",
    "print(os.getcwd())"
   ]
  },
  {
   "cell_type": "code",
   "execution_count": 3,
   "metadata": {},
   "outputs": [],
   "source": [
    "data_repo = f\"{path}/data/\"\n",
    "data_in = f\"{data_repo}raw/\""
   ]
  },
  {
   "cell_type": "code",
   "execution_count": 4,
   "metadata": {},
   "outputs": [
    {
     "data": {
      "text/plain": [
       "'1.5.3'"
      ]
     },
     "execution_count": 4,
     "metadata": {},
     "output_type": "execute_result"
    }
   ],
   "source": [
    "pd.__version__"
   ]
  },
  {
   "cell_type": "code",
   "execution_count": 5,
   "metadata": {},
   "outputs": [],
   "source": [
    "df = pd.read_csv(f\"{data_in}demand_profile.csv\")"
   ]
  },
  {
   "attachments": {},
   "cell_type": "markdown",
   "metadata": {},
   "source": [
    "<h2><b>3. Saving Time With Datetime Data</b></h3>"
   ]
  },
  {
   "cell_type": "code",
   "execution_count": 6,
   "metadata": {},
   "outputs": [
    {
     "data": {
      "text/html": [
       "<div>\n",
       "<style scoped>\n",
       "    .dataframe tbody tr th:only-of-type {\n",
       "        vertical-align: middle;\n",
       "    }\n",
       "\n",
       "    .dataframe tbody tr th {\n",
       "        vertical-align: top;\n",
       "    }\n",
       "\n",
       "    .dataframe thead th {\n",
       "        text-align: right;\n",
       "    }\n",
       "</style>\n",
       "<table border=\"1\" class=\"dataframe\">\n",
       "  <thead>\n",
       "    <tr style=\"text-align: right;\">\n",
       "      <th></th>\n",
       "      <th>date_time</th>\n",
       "      <th>energy_kwh</th>\n",
       "    </tr>\n",
       "  </thead>\n",
       "  <tbody>\n",
       "    <tr>\n",
       "      <th>0</th>\n",
       "      <td>1/1/13 0:00</td>\n",
       "      <td>0.586</td>\n",
       "    </tr>\n",
       "    <tr>\n",
       "      <th>1</th>\n",
       "      <td>1/1/13 1:00</td>\n",
       "      <td>0.580</td>\n",
       "    </tr>\n",
       "    <tr>\n",
       "      <th>2</th>\n",
       "      <td>1/1/13 2:00</td>\n",
       "      <td>0.572</td>\n",
       "    </tr>\n",
       "    <tr>\n",
       "      <th>3</th>\n",
       "      <td>1/1/13 3:00</td>\n",
       "      <td>0.596</td>\n",
       "    </tr>\n",
       "    <tr>\n",
       "      <th>4</th>\n",
       "      <td>1/1/13 4:00</td>\n",
       "      <td>0.592</td>\n",
       "    </tr>\n",
       "  </tbody>\n",
       "</table>\n",
       "</div>"
      ],
      "text/plain": [
       "     date_time  energy_kwh\n",
       "0  1/1/13 0:00       0.586\n",
       "1  1/1/13 1:00       0.580\n",
       "2  1/1/13 2:00       0.572\n",
       "3  1/1/13 3:00       0.596\n",
       "4  1/1/13 4:00       0.592"
      ]
     },
     "execution_count": 6,
     "metadata": {},
     "output_type": "execute_result"
    }
   ],
   "source": [
    "df.head()"
   ]
  },
  {
   "cell_type": "code",
   "execution_count": 7,
   "metadata": {},
   "outputs": [
    {
     "data": {
      "text/plain": [
       "date_time      object\n",
       "energy_kwh    float64\n",
       "dtype: object"
      ]
     },
     "execution_count": 7,
     "metadata": {},
     "output_type": "execute_result"
    }
   ],
   "source": [
    "df.dtypes"
   ]
  },
  {
   "cell_type": "code",
   "execution_count": 8,
   "metadata": {},
   "outputs": [
    {
     "data": {
      "text/plain": [
       "str"
      ]
     },
     "execution_count": 8,
     "metadata": {},
     "output_type": "execute_result"
    }
   ],
   "source": [
    "type(df.iat[0, 0])"
   ]
  },
  {
   "cell_type": "code",
   "execution_count": 9,
   "metadata": {},
   "outputs": [
    {
     "data": {
      "text/plain": [
       "dtype('O')"
      ]
     },
     "execution_count": 9,
     "metadata": {},
     "output_type": "execute_result"
    }
   ],
   "source": [
    "# df[\"date_time\"] = pd.to_datetime(df[\"date_time\"])\n",
    "df[\"date_time\"].dtype"
   ]
  },
  {
   "cell_type": "code",
   "execution_count": 10,
   "metadata": {},
   "outputs": [
    {
     "data": {
      "text/html": [
       "<div>\n",
       "<style scoped>\n",
       "    .dataframe tbody tr th:only-of-type {\n",
       "        vertical-align: middle;\n",
       "    }\n",
       "\n",
       "    .dataframe tbody tr th {\n",
       "        vertical-align: top;\n",
       "    }\n",
       "\n",
       "    .dataframe thead th {\n",
       "        text-align: right;\n",
       "    }\n",
       "</style>\n",
       "<table border=\"1\" class=\"dataframe\">\n",
       "  <thead>\n",
       "    <tr style=\"text-align: right;\">\n",
       "      <th></th>\n",
       "      <th>date_time</th>\n",
       "      <th>energy_kwh</th>\n",
       "    </tr>\n",
       "  </thead>\n",
       "  <tbody>\n",
       "    <tr>\n",
       "      <th>0</th>\n",
       "      <td>1/1/13 0:00</td>\n",
       "      <td>0.586</td>\n",
       "    </tr>\n",
       "    <tr>\n",
       "      <th>1</th>\n",
       "      <td>1/1/13 1:00</td>\n",
       "      <td>0.580</td>\n",
       "    </tr>\n",
       "    <tr>\n",
       "      <th>2</th>\n",
       "      <td>1/1/13 2:00</td>\n",
       "      <td>0.572</td>\n",
       "    </tr>\n",
       "    <tr>\n",
       "      <th>3</th>\n",
       "      <td>1/1/13 3:00</td>\n",
       "      <td>0.596</td>\n",
       "    </tr>\n",
       "    <tr>\n",
       "      <th>4</th>\n",
       "      <td>1/1/13 4:00</td>\n",
       "      <td>0.592</td>\n",
       "    </tr>\n",
       "  </tbody>\n",
       "</table>\n",
       "</div>"
      ],
      "text/plain": [
       "     date_time  energy_kwh\n",
       "0  1/1/13 0:00       0.586\n",
       "1  1/1/13 1:00       0.580\n",
       "2  1/1/13 2:00       0.572\n",
       "3  1/1/13 3:00       0.596\n",
       "4  1/1/13 4:00       0.592"
      ]
     },
     "execution_count": 10,
     "metadata": {},
     "output_type": "execute_result"
    }
   ],
   "source": [
    "df.head()"
   ]
  },
  {
   "cell_type": "code",
   "execution_count": 11,
   "metadata": {},
   "outputs": [
    {
     "name": "stdout",
     "output_type": "stream",
     "text": [
      "Best of 3 trials with 10 function calls per trial:\n",
      "Function `convert` ran in average of 0.817 seconds\n",
      "\n"
     ]
    }
   ],
   "source": [
    "from timer import timeit\n",
    "\n",
    "@timeit(repeat=3, number=10)\n",
    "def convert(df, column_name):\n",
    "    return pd.to_datetime(df[column_name])\n",
    "\n",
    "# Read it again so that we have `object` dtype to start\n",
    "df['date_time'] = convert(df, 'date_time')"
   ]
  },
  {
   "cell_type": "code",
   "execution_count": 12,
   "metadata": {},
   "outputs": [
    {
     "name": "stdout",
     "output_type": "stream",
     "text": [
      "Best of 3 trials with 10 function calls per trial:\n",
      "Function `convert_with_format` ran in average of 0.008 seconds\n",
      "\n"
     ]
    }
   ],
   "source": [
    "@timeit(repeat=3, number=10)\n",
    "def convert_with_format(df, column_name):\n",
    "    return pd.to_datetime(df[column_name],\n",
    "                          format=\"%d%m%y %H:%M\")\n",
    "\n",
    "df[\"date_time\"] = convert_with_format(df, \"date_time\")"
   ]
  },
  {
   "attachments": {},
   "cell_type": "markdown",
   "metadata": {},
   "source": [
    "<hr>\n",
    "<h2><b>4. Simple Looping Over pandas Data</b></h2>"
   ]
  },
  {
   "cell_type": "code",
   "execution_count": 13,
   "metadata": {},
   "outputs": [],
   "source": [
    "df[\"cost_cents\"] = df[\"energy_kwh\"] * 28 # if price were a flat 28 cents per kWh"
   ]
  },
  {
   "cell_type": "code",
   "execution_count": 14,
   "metadata": {},
   "outputs": [
    {
     "data": {
      "text/html": [
       "<div>\n",
       "<style scoped>\n",
       "    .dataframe tbody tr th:only-of-type {\n",
       "        vertical-align: middle;\n",
       "    }\n",
       "\n",
       "    .dataframe tbody tr th {\n",
       "        vertical-align: top;\n",
       "    }\n",
       "\n",
       "    .dataframe thead th {\n",
       "        text-align: right;\n",
       "    }\n",
       "</style>\n",
       "<table border=\"1\" class=\"dataframe\">\n",
       "  <thead>\n",
       "    <tr style=\"text-align: right;\">\n",
       "      <th></th>\n",
       "      <th>date_time</th>\n",
       "      <th>energy_kwh</th>\n",
       "      <th>cost_cents</th>\n",
       "    </tr>\n",
       "  </thead>\n",
       "  <tbody>\n",
       "    <tr>\n",
       "      <th>0</th>\n",
       "      <td>2013-01-01 00:00:00</td>\n",
       "      <td>0.586</td>\n",
       "      <td>16.408</td>\n",
       "    </tr>\n",
       "    <tr>\n",
       "      <th>1</th>\n",
       "      <td>2013-01-01 01:00:00</td>\n",
       "      <td>0.580</td>\n",
       "      <td>16.240</td>\n",
       "    </tr>\n",
       "    <tr>\n",
       "      <th>2</th>\n",
       "      <td>2013-01-01 02:00:00</td>\n",
       "      <td>0.572</td>\n",
       "      <td>16.016</td>\n",
       "    </tr>\n",
       "    <tr>\n",
       "      <th>3</th>\n",
       "      <td>2013-01-01 03:00:00</td>\n",
       "      <td>0.596</td>\n",
       "      <td>16.688</td>\n",
       "    </tr>\n",
       "    <tr>\n",
       "      <th>4</th>\n",
       "      <td>2013-01-01 04:00:00</td>\n",
       "      <td>0.592</td>\n",
       "      <td>16.576</td>\n",
       "    </tr>\n",
       "  </tbody>\n",
       "</table>\n",
       "</div>"
      ],
      "text/plain": [
       "            date_time  energy_kwh  cost_cents\n",
       "0 2013-01-01 00:00:00       0.586      16.408\n",
       "1 2013-01-01 01:00:00       0.580      16.240\n",
       "2 2013-01-01 02:00:00       0.572      16.016\n",
       "3 2013-01-01 03:00:00       0.596      16.688\n",
       "4 2013-01-01 04:00:00       0.592      16.576"
      ]
     },
     "execution_count": 14,
     "metadata": {},
     "output_type": "execute_result"
    }
   ],
   "source": [
    "df.head()"
   ]
  },
  {
   "cell_type": "code",
   "execution_count": 15,
   "metadata": {},
   "outputs": [],
   "source": [
    "def apply_tariff(kwh, hour):\n",
    "    \"\"\"Calculates the cost of electricity for a given hour.\"\"\"\n",
    "    if 0 <= hour < 7:\n",
    "        rate = 12\n",
    "    elif 7 <= hour < 17:\n",
    "        rate = 20\n",
    "    elif 17 <= hour < 24:\n",
    "        rate = 28\n",
    "    else:\n",
    "        raise ValueError(f\"Invalid hour: {hour}\")\n",
    "    return rate * kwh"
   ]
  },
  {
   "cell_type": "code",
   "execution_count": 16,
   "metadata": {},
   "outputs": [],
   "source": [
    "@timeit(repeat=3, number=10)\n",
    "def apply_tariff_loop(df):\n",
    "    \"\"\"Calculate costs in loop and modifies `df` inplace.\"\"\"\n",
    "    energy_cost_list = []\n",
    "    for i in range(len(df)):\n",
    "        # Get electricity used and hour of day\n",
    "        energy_used = df.iloc[i][\"energy_kwh\"]\n",
    "        hour = df.iloc[i][\"date_time\"].hour\n",
    "        energy_cost = apply_tariff(energy_used, hour)\n",
    "        energy_cost_list.append(energy_cost)\n",
    "    df[\"cost_cents\"] = energy_cost_list"
   ]
  },
  {
   "cell_type": "code",
   "execution_count": 17,
   "metadata": {},
   "outputs": [
    {
     "name": "stdout",
     "output_type": "stream",
     "text": [
      "Best of 3 trials with 10 function calls per trial:\n",
      "Function `apply_tariff_loop` ran in average of 1.781 seconds\n",
      "\n"
     ]
    }
   ],
   "source": [
    "apply_tariff_loop(df)"
   ]
  },
  {
   "attachments": {},
   "cell_type": "markdown",
   "metadata": {},
   "source": [
    "<hr>\n",
    "<h2><b>5. Looping with <code>.itertuples()</code> and <code>.iterrows()</code></h2>\n"
   ]
  },
  {
   "cell_type": "code",
   "execution_count": 18,
   "metadata": {},
   "outputs": [],
   "source": [
    "@timeit(repeat=3, number=10)\n",
    "def apply_tariff_iterrows(df):\n",
    "    energy_cost_list = []\n",
    "    for index, row in df.iterrows():\n",
    "        # Get electricity used and hour of day\n",
    "        energy_used = row[\"energy_kwh\"]\n",
    "        hour = row[\"date_time\"].hour\n",
    "        # Append cost list\n",
    "        energy_cost = apply_tariff(energy_used, hour)\n",
    "        energy_cost_list.append(energy_cost)\n",
    "    df[\"cost_cents\"] = energy_cost_list"
   ]
  },
  {
   "cell_type": "code",
   "execution_count": 19,
   "metadata": {},
   "outputs": [
    {
     "name": "stdout",
     "output_type": "stream",
     "text": [
      "Best of 3 trials with 10 function calls per trial:\n",
      "Function `apply_tariff_iterrows` ran in average of 0.419 seconds\n",
      "\n"
     ]
    }
   ],
   "source": [
    "apply_tariff_iterrows(df)"
   ]
  },
  {
   "attachments": {},
   "cell_type": "markdown",
   "metadata": {},
   "source": [
    "<hr>\n",
    "<h2><b>6. pandas' <code>.apply()</code>"
   ]
  },
  {
   "cell_type": "code",
   "execution_count": 20,
   "metadata": {},
   "outputs": [],
   "source": [
    "@timeit(repeat=3, number=10)\n",
    "def apply_tariff_withapply(df):\n",
    "    df[\"cost_cents\"] = df.apply(\n",
    "        lambda row: apply_tariff(\n",
    "            kwh=row[\"energy_kwh\"],\n",
    "            hour=row[\"date_time\"].hour),\n",
    "        axis=1\n",
    "    )"
   ]
  },
  {
   "cell_type": "code",
   "execution_count": 21,
   "metadata": {},
   "outputs": [
    {
     "name": "stdout",
     "output_type": "stream",
     "text": [
      "Best of 3 trials with 10 function calls per trial:\n",
      "Function `apply_tariff_withapply` ran in average of 0.084 seconds\n",
      "\n"
     ]
    }
   ],
   "source": [
    "apply_tariff_withapply(df)"
   ]
  },
  {
   "attachments": {},
   "cell_type": "markdown",
   "metadata": {},
   "source": [
    "<hr>\n",
    "<h2><b>7. Selecting Data With <code>.isin()</code></b></h2>\n",
    "<p>Make an observation on vectorized operations in pandas.</p>"
   ]
  },
  {
   "cell_type": "code",
   "execution_count": 22,
   "metadata": {},
   "outputs": [],
   "source": [
    "# Set date_time as the DataFrame's index for convenience purposes\n",
    "df.set_index(\"date_time\", inplace=True)\n",
    "\n",
    "@timeit(repeat=3, number=10)\n",
    "def apply_tariff_isin(df):\n",
    "    # Define hour range boolean arrays\n",
    "    peak_hours = df.index.hour.isin(range(17,24))\n",
    "    shoulder_hours = df.index.hour.isin(range(7, 17))\n",
    "    off_peak_hours = df.index.hour.isin(range(0, 7))\n",
    "\n",
    "    # Apply tariffs to hour ranges\n",
    "    df.loc[peak_hours, \"cost_cents\"] = df.loc[peak_hours, \"energy_kwh\"] * 28\n",
    "    df.loc[shoulder_hours, \"cost_cents\"] = df.loc[shoulder_hours, \"energy_kwh\"] * 20\n",
    "    df.loc[off_peak_hours, \"cost_cents\"] = df.loc[off_peak_hours, \"energy_kwh\"] * 12\n"
   ]
  },
  {
   "cell_type": "code",
   "execution_count": 23,
   "metadata": {},
   "outputs": [
    {
     "name": "stdout",
     "output_type": "stream",
     "text": [
      "Best of 3 trials with 10 function calls per trial:\n",
      "Function `apply_tariff_isin` ran in average of 0.006 seconds\n",
      "\n"
     ]
    }
   ],
   "source": [
    "apply_tariff_isin(df)"
   ]
  },
  {
   "attachments": {},
   "cell_type": "markdown",
   "metadata": {},
   "source": [
    "<hr>\n",
    "<h2><b>8. Can We Do Better?</b></h2>"
   ]
  },
  {
   "cell_type": "code",
   "execution_count": 24,
   "metadata": {},
   "outputs": [],
   "source": [
    "@timeit(repeat=3, number=10)\n",
    "def apply_tariff_cut(df):\n",
    "    cents_per_kwh = pd.cut(x=df.index.hour,\n",
    "                           bins=[0, 7, 17, 24],\n",
    "                           include_lowest=True,\n",
    "                           labels=[12, 20, 28]).astype(int)\n",
    "    df[\"cost_cents\"] = cents_per_kwh * df[\"energy_kwh\"]\n",
    "    # return df"
   ]
  },
  {
   "cell_type": "code",
   "execution_count": 25,
   "metadata": {},
   "outputs": [
    {
     "name": "stdout",
     "output_type": "stream",
     "text": [
      "Best of 3 trials with 10 function calls per trial:\n",
      "Function `apply_tariff_cut` ran in average of 0.002 seconds\n",
      "\n"
     ]
    }
   ],
   "source": [
    "apply_tariff_cut(df)"
   ]
  },
  {
   "attachments": {},
   "cell_type": "markdown",
   "metadata": {},
   "source": [
    "<hr>\n",
    "<h2><b>9. Don't Forget NumPy!</b></h2>"
   ]
  },
  {
   "cell_type": "code",
   "execution_count": 26,
   "metadata": {},
   "outputs": [],
   "source": [
    "@timeit(repeat=3, number=10)\n",
    "def apply_tariff_digitize(df):\n",
    "    prices = np.array([12, 20, 28])\n",
    "    bins = np.digitize(df.index.hour.values, bins=[7, 17, 24])\n",
    "    df[\"cost_cents\"] = prices[bins] * df[\"energy_kwh\"].values"
   ]
  },
  {
   "cell_type": "code",
   "execution_count": 27,
   "metadata": {},
   "outputs": [
    {
     "name": "stdout",
     "output_type": "stream",
     "text": [
      "Best of 3 trials with 10 function calls per trial:\n",
      "Function `apply_tariff_digitize` ran in average of 0.001 seconds\n",
      "\n"
     ]
    }
   ],
   "source": [
    "apply_tariff_digitize(df)"
   ]
  },
  {
   "attachments": {},
   "cell_type": "markdown",
   "metadata": {},
   "source": [
    "<hr>\n",
    "<h2><b>10. Prevent Reprocessing with HDFStore</b></h2>\n"
   ]
  },
  {
   "cell_type": "code",
   "execution_count": 29,
   "metadata": {},
   "outputs": [],
   "source": [
    "# Create stprage object with filename `processed_data`\n",
    "data_store = pd.HDFStore('processed_data.h5')\n",
    "\n",
    "# Put DataFrame into the object setting the key as 'preprocessed_df'\n",
    "data_store[\"preprocessed_df\"] = df\n",
    "data_store.close()"
   ]
  },
  {
   "cell_type": "code",
   "execution_count": 31,
   "metadata": {},
   "outputs": [],
   "source": [
    "# Acess data store\n",
    "data_store = pd.HDFStore('processed_data.h5')\n",
    "\n",
    "# Retrieve data using key\n",
    "preprocessed_df = data_store[\"preprocessed_df\"]\n",
    "data_store.close()"
   ]
  },
  {
   "attachments": {},
   "cell_type": "markdown",
   "metadata": {},
   "source": [
    "<hr>\n",
    "<h2><b>11. Conclusions</b></h2>"
   ]
  },
  {
   "cell_type": "code",
   "execution_count": null,
   "metadata": {},
   "outputs": [],
   "source": []
  }
 ],
 "metadata": {
  "kernelspec": {
   "display_name": "pandas_notes",
   "language": "python",
   "name": "python3"
  },
  "language_info": {
   "codemirror_mode": {
    "name": "ipython",
    "version": 3
   },
   "file_extension": ".py",
   "mimetype": "text/x-python",
   "name": "python",
   "nbconvert_exporter": "python",
   "pygments_lexer": "ipython3",
   "version": "3.10.3"
  },
  "orig_nbformat": 4
 },
 "nbformat": 4,
 "nbformat_minor": 2
}

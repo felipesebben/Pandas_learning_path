{
 "cells": [
  {
   "attachments": {},
   "cell_type": "markdown",
   "metadata": {},
   "source": [
    "<h1><b>Fast, Flexible, Easy and Intuitive: How to Speed Up Your pandas Projects</b></h1>\n",
    "<p>This notebook will cover a great tutorial taught by <a href=\"https://realpython.com/team/jwyndham/\">Joe Wyndham</a> on how to get the most out of pandas in terms of performance. By the end of his remarks, we get to understand the real power of pandas and to demytify the saying that pandas is too slow. We get to learn that the main problem is <b>applying a Pythonic logic in a library that was created based on other structures.</b> The main difference here is that pandas is designed for <b>vectorized operations</b> - keep that in mind -, a concept we will discuss along the following notes.</p>\n",
    "<p>By the end of this notebook, I hope to have covered the following topics:</p>\n",
    "<ul>\n",
    "    <li>The advantages of using <code>datetime</code> data with time series</li>\n",
    "    <li>The most efficient ways to do batch calculations</li>\n",
    "    <li>How to save time by store data with HDFStore</li>\n",
    "</ul>\n",
    "\n",
    "<h2><b>Table of Contents</b></h2>\n",
    "<ol>\n",
    "<li>Import Libraries and the Data</li>\n",
    "<li>Saving Time With Datetime Data</li>\n",
    "<li>Simple Looping Over pandas Data</li>\n",
    "<li>Looping with .itertuples() and <code>.iterrows()</code></li>\n",
    "<li>pandas’ <code>.apply()</code></li>\n",
    "<li>Selecting Data With <code>.isin()</code></li>\n",
    "<li>Can We Do Better?</li>\n",
    "<li>Don’t Forget NumPy!</li>\n",
    "<li>Prevent Reprocessing with HDFStore</li>\n",
    "<li>Conclusions</li>\n",
    "</ol>\n",
    "<hr>\n",
    "<h2><b>1. Import libraries and the data</b></h2>\n",
    "<p>First, let's import the libraries, define our working folders, and import our dataset. The author used an example taken from his job, a time series of electricity consumption. Given different tariffs (in USD cents) for energy consumption throughout a 24-period, the task was to multiply the electricity consumed for each hour by the correct hour in which it was consumed.</p>"
   ]
  },
  {
   "cell_type": "code",
   "execution_count": 1,
   "metadata": {},
   "outputs": [],
   "source": [
    "import pandas as pd\n",
    "import os\n",
    "import time\n",
    "import functools\n",
    "import gc\n",
    "import itertools\n",
    "import sys\n",
    "import numpy as np\n",
    "from timeit import default_timer as _timer"
   ]
  },
  {
   "cell_type": "code",
   "execution_count": 2,
   "metadata": {},
   "outputs": [],
   "source": [
    "path = os.getcwd()"
   ]
  },
  {
   "cell_type": "code",
   "execution_count": 3,
   "metadata": {},
   "outputs": [],
   "source": [
    "data_repo = f\"{path}/data/\"\n",
    "data_in = f\"{data_repo}raw/\"\n",
    "data_out = f\"{data_repo}output/\""
   ]
  },
  {
   "cell_type": "code",
   "execution_count": 4,
   "metadata": {},
   "outputs": [
    {
     "data": {
      "text/plain": [
       "'1.5.3'"
      ]
     },
     "execution_count": 4,
     "metadata": {},
     "output_type": "execute_result"
    }
   ],
   "source": [
    "pd.__version__"
   ]
  },
  {
   "cell_type": "code",
   "execution_count": 5,
   "metadata": {},
   "outputs": [],
   "source": [
    "df = pd.read_csv(f\"{data_in}demand_profile.csv\")"
   ]
  },
  {
   "cell_type": "code",
   "execution_count": 6,
   "metadata": {},
   "outputs": [
    {
     "data": {
      "text/html": [
       "<div>\n",
       "<style scoped>\n",
       "    .dataframe tbody tr th:only-of-type {\n",
       "        vertical-align: middle;\n",
       "    }\n",
       "\n",
       "    .dataframe tbody tr th {\n",
       "        vertical-align: top;\n",
       "    }\n",
       "\n",
       "    .dataframe thead th {\n",
       "        text-align: right;\n",
       "    }\n",
       "</style>\n",
       "<table border=\"1\" class=\"dataframe\">\n",
       "  <thead>\n",
       "    <tr style=\"text-align: right;\">\n",
       "      <th></th>\n",
       "      <th>date_time</th>\n",
       "      <th>energy_kwh</th>\n",
       "    </tr>\n",
       "  </thead>\n",
       "  <tbody>\n",
       "    <tr>\n",
       "      <th>0</th>\n",
       "      <td>1/1/13 0:00</td>\n",
       "      <td>0.586</td>\n",
       "    </tr>\n",
       "    <tr>\n",
       "      <th>1</th>\n",
       "      <td>1/1/13 1:00</td>\n",
       "      <td>0.580</td>\n",
       "    </tr>\n",
       "    <tr>\n",
       "      <th>2</th>\n",
       "      <td>1/1/13 2:00</td>\n",
       "      <td>0.572</td>\n",
       "    </tr>\n",
       "    <tr>\n",
       "      <th>3</th>\n",
       "      <td>1/1/13 3:00</td>\n",
       "      <td>0.596</td>\n",
       "    </tr>\n",
       "    <tr>\n",
       "      <th>4</th>\n",
       "      <td>1/1/13 4:00</td>\n",
       "      <td>0.592</td>\n",
       "    </tr>\n",
       "  </tbody>\n",
       "</table>\n",
       "</div>"
      ],
      "text/plain": [
       "     date_time  energy_kwh\n",
       "0  1/1/13 0:00       0.586\n",
       "1  1/1/13 1:00       0.580\n",
       "2  1/1/13 2:00       0.572\n",
       "3  1/1/13 3:00       0.596\n",
       "4  1/1/13 4:00       0.592"
      ]
     },
     "execution_count": 6,
     "metadata": {},
     "output_type": "execute_result"
    }
   ],
   "source": [
    "df.head()"
   ]
  },
  {
   "attachments": {},
   "cell_type": "markdown",
   "metadata": {},
   "source": [
    "<h2><b>2. Saving Time With Datetime Data</b></h3>\n",
    "<p>The first problem we face is related to <b>data types</b>. Let's take a look at the <code>dtypes</code> for each of the two variables.</p>"
   ]
  },
  {
   "cell_type": "code",
   "execution_count": 7,
   "metadata": {},
   "outputs": [
    {
     "data": {
      "text/plain": [
       "date_time      object\n",
       "energy_kwh    float64\n",
       "dtype: object"
      ]
     },
     "execution_count": 7,
     "metadata": {},
     "output_type": "execute_result"
    }
   ],
   "source": [
    "df.dtypes"
   ]
  },
  {
   "cell_type": "code",
   "execution_count": 8,
   "metadata": {},
   "outputs": [
    {
     "data": {
      "text/plain": [
       "str"
      ]
     },
     "execution_count": 8,
     "metadata": {},
     "output_type": "execute_result"
    }
   ],
   "source": [
    "type(df.iat[0, 0])"
   ]
  },
  {
   "attachments": {},
   "cell_type": "markdown",
   "metadata": {},
   "source": [
    "<p>As we can see, <code>\"date_time\"</code> was stored as an object, which can basically take any data type and is considered a <b>string</b>. Any operation in pandas with this kind of data type will be slower and inefficient. Fortunately, we can format this column as a datetime object using <code>.to_datetime</code>.</p>\n",
    "<p>Note: because we will format this column many times using different approaches, I commented the code below. Uncomment it to see the changes in the data format, comment it again, and re-run the notebook so that we can deal with the column with its original data format.</p>"
   ]
  },
  {
   "cell_type": "code",
   "execution_count": 9,
   "metadata": {},
   "outputs": [
    {
     "data": {
      "text/plain": [
       "dtype('O')"
      ]
     },
     "execution_count": 9,
     "metadata": {},
     "output_type": "execute_result"
    }
   ],
   "source": [
    "# df[\"date_time\"] = pd.to_datetime(df[\"date_time\"])\n",
    "df[\"date_time\"].dtype"
   ]
  },
  {
   "cell_type": "code",
   "execution_count": 10,
   "metadata": {},
   "outputs": [
    {
     "data": {
      "text/html": [
       "<div>\n",
       "<style scoped>\n",
       "    .dataframe tbody tr th:only-of-type {\n",
       "        vertical-align: middle;\n",
       "    }\n",
       "\n",
       "    .dataframe tbody tr th {\n",
       "        vertical-align: top;\n",
       "    }\n",
       "\n",
       "    .dataframe thead th {\n",
       "        text-align: right;\n",
       "    }\n",
       "</style>\n",
       "<table border=\"1\" class=\"dataframe\">\n",
       "  <thead>\n",
       "    <tr style=\"text-align: right;\">\n",
       "      <th></th>\n",
       "      <th>date_time</th>\n",
       "      <th>energy_kwh</th>\n",
       "    </tr>\n",
       "  </thead>\n",
       "  <tbody>\n",
       "    <tr>\n",
       "      <th>0</th>\n",
       "      <td>1/1/13 0:00</td>\n",
       "      <td>0.586</td>\n",
       "    </tr>\n",
       "    <tr>\n",
       "      <th>1</th>\n",
       "      <td>1/1/13 1:00</td>\n",
       "      <td>0.580</td>\n",
       "    </tr>\n",
       "    <tr>\n",
       "      <th>2</th>\n",
       "      <td>1/1/13 2:00</td>\n",
       "      <td>0.572</td>\n",
       "    </tr>\n",
       "    <tr>\n",
       "      <th>3</th>\n",
       "      <td>1/1/13 3:00</td>\n",
       "      <td>0.596</td>\n",
       "    </tr>\n",
       "    <tr>\n",
       "      <th>4</th>\n",
       "      <td>1/1/13 4:00</td>\n",
       "      <td>0.592</td>\n",
       "    </tr>\n",
       "  </tbody>\n",
       "</table>\n",
       "</div>"
      ],
      "text/plain": [
       "     date_time  energy_kwh\n",
       "0  1/1/13 0:00       0.586\n",
       "1  1/1/13 1:00       0.580\n",
       "2  1/1/13 2:00       0.572\n",
       "3  1/1/13 3:00       0.596\n",
       "4  1/1/13 4:00       0.592"
      ]
     },
     "execution_count": 10,
     "metadata": {},
     "output_type": "execute_result"
    }
   ],
   "source": [
    "df.head()"
   ]
  },
  {
   "attachments": {},
   "cell_type": "markdown",
   "metadata": {},
   "source": [
    "<p>Now, to measure how fast our code is, let's use a <a href=\"https://github.com/realpython/materials/blob/master/pandas-fast-flexible-intuitive/tutorial/timer.py\">timing decorator</a> provided by the author"
   ]
  },
  {
   "cell_type": "code",
   "execution_count": 11,
   "metadata": {},
   "outputs": [
    {
     "name": "stdout",
     "output_type": "stream",
     "text": [
      "Best of 3 trials with 10 function calls per trial:\n",
      "Function `convert` ran in average of 0.642 seconds\n",
      "\n"
     ]
    }
   ],
   "source": [
    "from timer import timeit\n",
    "\n",
    "@timeit(repeat=3, number=10)\n",
    "def convert(df, column_name):\n",
    "    return pd.to_datetime(df[column_name])\n",
    "\n",
    "# Read it again so that we have `object` dtype to start\n",
    "df['date_time'] = convert(df, 'date_time')"
   ]
  },
  {
   "cell_type": "markdown",
   "metadata": {},
   "source": [
    "<p>Now, we can speed this process up if we tell pandas what what the date and time format looks like and pass the code in the <code>format</code> parameter.</p>"
   ]
  },
  {
   "cell_type": "code",
   "execution_count": 12,
   "metadata": {},
   "outputs": [
    {
     "name": "stdout",
     "output_type": "stream",
     "text": [
      "Best of 3 trials with 10 function calls per trial:\n",
      "Function `convert_with_format` ran in average of 0.005 seconds\n",
      "\n"
     ]
    }
   ],
   "source": [
    "@timeit(repeat=3, number=10)\n",
    "def convert_with_format(df, column_name):\n",
    "    return pd.to_datetime(df[column_name],\n",
    "                          format=\"%d%m%y %H:%M\")\n",
    "\n",
    "df[\"date_time\"] = convert_with_format(df, \"date_time\")"
   ]
  },
  {
   "cell_type": "markdown",
   "metadata": {},
   "source": [
    "<p>That's quite an improvement - 128 times faster! Hence, it pays off to be explicit about the date format you want to use.</p>"
   ]
  },
  {
   "attachments": {},
   "cell_type": "markdown",
   "metadata": {},
   "source": [
    "<hr>\n",
    "<h2><b>4. Simple Looping Over pandas Data</b></h2>\n",
    "<p>We can now take a look at our challenge. We want to calculate electricity costs, yet they vary by the hour, which requires us to apply a cost factor to each hour of the day. The table below, provided by the author, describes the price changes through the day.</p>"
   ]
  },
  {
   "cell_type": "markdown",
   "metadata": {},
   "source": [
    "| **Tariff Type** | **Cents per kWh** | **Time Range** |\n",
    "|-----------------|-------------------|----------------|\n",
    "| Peak            | 28                | 17:00 to 24:00 |\n",
    "| Shoulder        | 20                | 07:00 to 17:00 |\n",
    "| Off-Peak        | 12                | 00:00 to 07:00 |"
   ]
  },
  {
   "cell_type": "markdown",
   "metadata": {},
   "source": [
    "<p>If the price was only 28 cents for every hour of the day, we would only need to do one line of code, as below.</p>"
   ]
  },
  {
   "cell_type": "code",
   "execution_count": 13,
   "metadata": {},
   "outputs": [],
   "source": [
    "df[\"cost_cents\"] = df[\"energy_kwh\"] * 28 # if price were a flat 28 cents per kWh"
   ]
  },
  {
   "cell_type": "code",
   "execution_count": 14,
   "metadata": {},
   "outputs": [
    {
     "data": {
      "text/html": [
       "<div>\n",
       "<style scoped>\n",
       "    .dataframe tbody tr th:only-of-type {\n",
       "        vertical-align: middle;\n",
       "    }\n",
       "\n",
       "    .dataframe tbody tr th {\n",
       "        vertical-align: top;\n",
       "    }\n",
       "\n",
       "    .dataframe thead th {\n",
       "        text-align: right;\n",
       "    }\n",
       "</style>\n",
       "<table border=\"1\" class=\"dataframe\">\n",
       "  <thead>\n",
       "    <tr style=\"text-align: right;\">\n",
       "      <th></th>\n",
       "      <th>date_time</th>\n",
       "      <th>energy_kwh</th>\n",
       "      <th>cost_cents</th>\n",
       "    </tr>\n",
       "  </thead>\n",
       "  <tbody>\n",
       "    <tr>\n",
       "      <th>0</th>\n",
       "      <td>2013-01-01 00:00:00</td>\n",
       "      <td>0.586</td>\n",
       "      <td>16.408</td>\n",
       "    </tr>\n",
       "    <tr>\n",
       "      <th>1</th>\n",
       "      <td>2013-01-01 01:00:00</td>\n",
       "      <td>0.580</td>\n",
       "      <td>16.240</td>\n",
       "    </tr>\n",
       "    <tr>\n",
       "      <th>2</th>\n",
       "      <td>2013-01-01 02:00:00</td>\n",
       "      <td>0.572</td>\n",
       "      <td>16.016</td>\n",
       "    </tr>\n",
       "    <tr>\n",
       "      <th>3</th>\n",
       "      <td>2013-01-01 03:00:00</td>\n",
       "      <td>0.596</td>\n",
       "      <td>16.688</td>\n",
       "    </tr>\n",
       "    <tr>\n",
       "      <th>4</th>\n",
       "      <td>2013-01-01 04:00:00</td>\n",
       "      <td>0.592</td>\n",
       "      <td>16.576</td>\n",
       "    </tr>\n",
       "  </tbody>\n",
       "</table>\n",
       "</div>"
      ],
      "text/plain": [
       "            date_time  energy_kwh  cost_cents\n",
       "0 2013-01-01 00:00:00       0.586      16.408\n",
       "1 2013-01-01 01:00:00       0.580      16.240\n",
       "2 2013-01-01 02:00:00       0.572      16.016\n",
       "3 2013-01-01 03:00:00       0.596      16.688\n",
       "4 2013-01-01 04:00:00       0.592      16.576"
      ]
     },
     "execution_count": 14,
     "metadata": {},
     "output_type": "execute_result"
    }
   ],
   "source": [
    "df.head()"
   ]
  },
  {
   "cell_type": "markdown",
   "metadata": {},
   "source": [
    "<p>Yet, we need to apply a condition to such calculation, as prices are not always the same according to the day hour. Now, we will look at how people usually write conditional calculations in Python using <b>loops</b> and how Python does <b>not</b> perform as well when using this method.</p>\n",
    "<p>First, before looking at each approach, let's creae a function to apply the right tariff to a given hour.</p>"
   ]
  },
  {
   "cell_type": "code",
   "execution_count": 15,
   "metadata": {},
   "outputs": [],
   "source": [
    "def apply_tariff(kwh, hour):\n",
    "    \"\"\"Calculates the cost of electricity for a given hour.\"\"\"\n",
    "    if 0 <= hour < 7:\n",
    "        rate = 12\n",
    "    elif 7 <= hour < 17:\n",
    "        rate = 20\n",
    "    elif 17 <= hour < 24:\n",
    "        rate = 28\n",
    "    else:\n",
    "        raise ValueError(f\"Invalid hour: {hour}\")\n",
    "    return rate * kwh"
   ]
  },
  {
   "cell_type": "markdown",
   "metadata": {},
   "source": [
    "<p>And here's our standard iteration, followed by the amount of time taken for Python to calculate it.</p>"
   ]
  },
  {
   "cell_type": "code",
   "execution_count": 16,
   "metadata": {},
   "outputs": [],
   "source": [
    "@timeit(repeat=3, number=10)\n",
    "def apply_tariff_loop(df):\n",
    "    \"\"\"Calculate costs in loop and modifies `df` inplace.\"\"\"\n",
    "    energy_cost_list = []\n",
    "    for i in range(len(df)):\n",
    "        # Get electricity used and hour of day\n",
    "        energy_used = df.iloc[i][\"energy_kwh\"]\n",
    "        hour = df.iloc[i][\"date_time\"].hour\n",
    "        energy_cost = apply_tariff(energy_used, hour)\n",
    "        energy_cost_list.append(energy_cost)\n",
    "    df[\"cost_cents\"] = energy_cost_list"
   ]
  },
  {
   "cell_type": "code",
   "execution_count": 17,
   "metadata": {},
   "outputs": [
    {
     "name": "stdout",
     "output_type": "stream",
     "text": [
      "Best of 3 trials with 10 function calls per trial:\n",
      "Function `apply_tariff_loop` ran in average of 1.452 seconds\n",
      "\n"
     ]
    }
   ],
   "source": [
    "apply_tariff_loop(df)"
   ]
  },
  {
   "cell_type": "markdown",
   "metadata": {},
   "source": [
    "<h3>Why is it non-Pythonic to do loops with pandas?</h3>\n",
    "<ol>\n",
    "<li>You create an empty list in which the results will be stored.</li>\n",
    "<li>It uses <code>range(len(df))</code> to loop over, and then applies <code>apply_tariff</code>. </li>\n",
    "<li>Following, it has to append the result to a list that will be then used as a new column in the DataFrame.</li>\n",
    "<li><b>Cost of the calculations</b> - 1.5 second for some 8760 rows.</li>\n",
    "</ol>"
   ]
  },
  {
   "attachments": {},
   "cell_type": "markdown",
   "metadata": {},
   "source": [
    "<hr>\n",
    "<h2><b>5. Looping with <code>.itertuples()</code> and <code>.iterrows()</code></h2>\n"
   ]
  },
  {
   "cell_type": "markdown",
   "metadata": {},
   "source": [
    "<p><code>.itertuples()</code> yields a <code>namedtuple</code> for each row, with the row's index value as the first element of the tuple. This structure, from Python's <code>collections</code> module, behaves like a Python tuple but has fields accessible by attribute lookup.</p>\n",
    "<p><code>.iterrows()</code> yields pairs of tuples of (index, <code>Series</code>) for each row in the DataFrame. Because the latter is more common in our context, we'll use it only.</p>"
   ]
  },
  {
   "cell_type": "code",
   "execution_count": 18,
   "metadata": {},
   "outputs": [],
   "source": [
    "@timeit(repeat=3, number=10)\n",
    "def apply_tariff_iterrows(df):\n",
    "    energy_cost_list = []\n",
    "    for index, row in df.iterrows():\n",
    "        # Get electricity used and hour of day\n",
    "        energy_used = row[\"energy_kwh\"]\n",
    "        hour = row[\"date_time\"].hour\n",
    "        # Append cost list\n",
    "        energy_cost = apply_tariff(energy_used, hour)\n",
    "        energy_cost_list.append(energy_cost)\n",
    "    df[\"cost_cents\"] = energy_cost_list"
   ]
  },
  {
   "cell_type": "code",
   "execution_count": 19,
   "metadata": {},
   "outputs": [
    {
     "name": "stdout",
     "output_type": "stream",
     "text": [
      "Best of 3 trials with 10 function calls per trial:\n",
      "Function `apply_tariff_iterrows` ran in average of 0.363 seconds\n",
      "\n"
     ]
    }
   ],
   "source": [
    "apply_tariff_iterrows(df)"
   ]
  },
  {
   "attachments": {},
   "cell_type": "markdown",
   "metadata": {},
   "source": [
    "<h3>Changes:</h3>\n",
    "<ol>\n",
    "<li>The syntax is more explicit.</li>\n",
    "<li>Less clutter in the row value references, which makes our code more readable.</li>\n",
    "<li>4 times quicker.</li>\n",
    "</ol>\n",
    "<p>Let's consider other resources than similar Python <code>for</code> loops and take a look at pandas' internal architeture.\n",
    "\n",
    "<hr>\n",
    "<h2><b>6.</b> pandas' <code>.apply()</code></h2>\n",
    "<p><code>.apply()</code> takes <b>functions</b> and applies tham along an axis of a DataFrames (either all rows or all columns). Here, we will pass, with the assistance of a lambda function, the two columns of data into <code>apply_tariff()</code>.</p>"
   ]
  },
  {
   "cell_type": "code",
   "execution_count": 20,
   "metadata": {},
   "outputs": [],
   "source": [
    "@timeit(repeat=3, number=10)\n",
    "def apply_tariff_withapply(df):\n",
    "    df[\"cost_cents\"] = df.apply(\n",
    "        lambda row: apply_tariff(\n",
    "            kwh=row[\"energy_kwh\"],\n",
    "            hour=row[\"date_time\"].hour),\n",
    "        axis=1\n",
    "    )"
   ]
  },
  {
   "cell_type": "code",
   "execution_count": 21,
   "metadata": {},
   "outputs": [
    {
     "name": "stdout",
     "output_type": "stream",
     "text": [
      "Best of 3 trials with 10 function calls per trial:\n",
      "Function `apply_tariff_withapply` ran in average of 0.069 seconds\n",
      "\n"
     ]
    }
   ],
   "source": [
    "apply_tariff_withapply(df)"
   ]
  },
  {
   "cell_type": "markdown",
   "metadata": {},
   "source": [
    "<p>We got further improvements here then when compared to <code>.iterrows()</code>. In addition to being more concise and readable, our code is <b>5.27</b> times faster. We are not there in terms of improvements, though. Considering a very large dataset, we would probably have to sit and wait for many minutes of processing time. We will deal now with vectorized operations.</p>"
   ]
  },
  {
   "attachments": {},
   "cell_type": "markdown",
   "metadata": {},
   "source": [
    "<hr>\n",
    "<h2><b>7. Selecting Data With <code>.isin()</code></b></h2>\n",
    "<style>\n",
    "  .callout {\n",
    "    border: 1px solid #444;\n",
    "    background-color: #333;\n",
    "    padding: 10px;\n",
    "    margin: 20px;\n",
    "    border-radius: 5px;\n",
    "    box-shadow: 0px 0px 5px rgba(255, 255, 255, 0.2);\n",
    "  }\n",
    "</style>\n",
    "</head>\n",
    "<body>\n",
    "\n",
    "<div class=\"callout\">\n",
    "\n",
    "   <h3><b>Intermission</b> | On vectorized operations</h3>\n",
    "<p><b>Vectorized operations</b> in pandas are a fundamental concept that contributes to the efficiency and power of the library. Pandas is built on top of the NumPy library, which provides support for array computations. Vectorized operations allow you to perform operations on entire arrays of series of data <b>without the need for explicit iteration</b>, resulting in significantly fast and more concise mode.</p>\n",
    "<p>Here are some considerations about vectorized operations in pandas:</p>\n",
    "<ol>\n",
    "<li><b>Element-wise operations</b>. Liky NumPy, pandas supports element-wise operations, which means that you can apply a function or arithmetic operation to <b>every</b> element in a Series or DataFrame <b>without needing to loop through each element</b>.</li>\n",
    "<li><b>Broadcasting</b>. Pandas allows for broadcasting, which means you can perform operations <b>between arrays or series of different shapes</b>. The smaller array is automatically \"broadcast\" over the larger one to match dimensions, making the operation possible. This is similar to broadcasting in NumPy.</li>\n",
    "<li><b>Performance Benefits</b>. Vectorized operations are much faster than equivalent operations performed using loops, as they take advantage of underlying <b>C</b> or <b>Cython</b> implementations for computations. This is particularly important when dealing with <b>large datasets</b>.</li>\n",
    "<li><b>Code Readability</b>. Using vectorized operations can lead to more concise and readable code. You can express complex operations in a single line of code, improving the maintainability of your codebase.</li>\n",
    "<li><b>Examples</b> of vectorized operations in pandas:</li>\n",
    "<ul>\n",
    "<li>Arithmetic operations - you can sadd, subtract, multiply, or divide entire Series or DataFrames element-wise.</li>\n",
    "<li>Element-wise functions - applying functions like <code>numpy.sqrt()</code>, <code>numpy.log()</code>, etc, to a Series or DataFrames.</li>\n",
    "<li>Comparison operations - you can perform element-wise comparison, resulting in boolean Series, which can be used for filtering.</li>\n",
    "<li>Conditional operations - using <code>numpy.where()</code> or pandas' <code>.loc[]</code> to perform conditional assignments.</li>\n",
    "<li>Mathematical operations - computing aggregates like mean, sum, median, etc, directly on Series or columns of DataFrames.</li>\n",
    "</ul>\n",
    "</ol>\n",
    "  </p>\n",
    "</div>\n",
    "<p>Going back to our notes, let's consider pandas' first alternative: <code>.isin()</code>.</p>\n",
    "<p>The code <code>df[\"cost_cents\"] = df[\"energy_kwh\"] * 28</code> is an example of a vectorized operation. To apply condition calculations as vectorized operations, we can group parts of the DataFrames based on the conditions we stipulate, and then apply the vectorized operations to each selected group. To do this, <code>.isin()</code> can be of great assistance - we select rows nd then apply the appropaiate tariff. We can first set <code>date_time</code> as our index to make our job easier.</p>"
   ]
  },
  {
   "cell_type": "code",
   "execution_count": 22,
   "metadata": {},
   "outputs": [],
   "source": [
    "# Set date_time as the DataFrame's index for convenience purposes\n",
    "df.set_index(\"date_time\", inplace=True)\n",
    "\n",
    "@timeit(repeat=3, number=10)\n",
    "def apply_tariff_isin(df):\n",
    "    # Define hour range boolean arrays\n",
    "    peak_hours = df.index.hour.isin(range(17,24))\n",
    "    shoulder_hours = df.index.hour.isin(range(7, 17))\n",
    "    off_peak_hours = df.index.hour.isin(range(0, 7))\n",
    "\n",
    "    # Apply tariffs to hour ranges\n",
    "    df.loc[peak_hours, \"cost_cents\"] = df.loc[peak_hours, \"energy_kwh\"] * 28\n",
    "    df.loc[shoulder_hours, \"cost_cents\"] = df.loc[shoulder_hours, \"energy_kwh\"] * 20\n",
    "    df.loc[off_peak_hours, \"cost_cents\"] = df.loc[off_peak_hours, \"energy_kwh\"] * 12\n"
   ]
  },
  {
   "cell_type": "code",
   "execution_count": 23,
   "metadata": {},
   "outputs": [
    {
     "name": "stdout",
     "output_type": "stream",
     "text": [
      "Best of 3 trials with 10 function calls per trial:\n",
      "Function `apply_tariff_isin` ran in average of 0.004 seconds\n",
      "\n"
     ]
    }
   ],
   "source": [
    "apply_tariff_isin(df)"
   ]
  },
  {
   "cell_type": "markdown",
   "metadata": {},
   "source": [
    "<p>What did just happened? <code>.isin()</code> returns an array of <b>Boolean</b> values, identifying each row as either <code>True</code> or <code>False</code> based on our conditions (in this case, the range of hours). It identifies which indices fall within the hour range specified. With these Booleans in hand, we pass them to the DataFrame's <code>.loc</code> indexer, which slices the DataFrame and includes only he rows that match those hours. The values are then multiplied by the defined values and there you have it.</p>\n",
    "<p>As we can see, the calculation was <b>17 times</b> faster than using <code>.apply()</code>, <b>90</b> times faster than when using <code>.iterrows()</code>, and <b>363</b> times fasters than when using a Pythonic <code>for</code> loop! Notice also that we no longer used our function <code>apply_tariff()</code>, which reduces the lines of code that we need to write as well as the Python code that we need to call. As such, our code is cleaner, leaner, and faster. Think about this when facing millions of rows!</p>\n",
    "<hr>\n",
    "<h2><b>8. Can We Do Better?</b></h2>\n",
    "<p>Yes, we can! Instead of calling <code>df.loc</code> and <code>df.index.hour.isin()</code> every time we need to set different hour ranges (or any other sort of granular calculation, which could be more than 3 times), we can resort to <code>pd.cut()</code>. Let's take a look at a function that uses it.</p>"
   ]
  },
  {
   "cell_type": "code",
   "execution_count": 24,
   "metadata": {},
   "outputs": [],
   "source": [
    "@timeit(repeat=3, number=10)\n",
    "def apply_tariff_cut(df):\n",
    "    cents_per_kwh = pd.cut(x=df.index.hour,\n",
    "                           bins=[0, 7, 17, 24],\n",
    "                           include_lowest=True,\n",
    "                           labels=[12, 20, 28]).astype(int)\n",
    "    df[\"cost_cents\"] = cents_per_kwh * df[\"energy_kwh\"]\n",
    "    # return df"
   ]
  },
  {
   "cell_type": "code",
   "execution_count": 25,
   "metadata": {},
   "outputs": [
    {
     "name": "stdout",
     "output_type": "stream",
     "text": [
      "Best of 3 trials with 10 function calls per trial:\n",
      "Function `apply_tariff_cut` ran in average of 0.002 seconds\n",
      "\n"
     ]
    }
   ],
   "source": [
    "apply_tariff_cut(df)"
   ]
  },
  {
   "cell_type": "markdown",
   "metadata": {},
   "source": [
    "<p>Pandas' <code>.cut()</code> is very useful! It can segment and sort data values into bins, which is very useful for going from a continuous variable to a categorical variable. In hour case, we convert hours to group of hour ranges. We can even determine an equal or a pre-specified array of bins. In our case, we determined the bins based on our tariff hours, and set the parameter <code>include_lowest</code> as <code>True</code> to indicate that the first interval should be left-inclusive. And we get a result that was <b>2</b> times faster than <code>.isin()</code> which was already pretty fast!</p>\n",
    "<hr>\n",
    "<h2><b>9. Don't Forget NumPy!</b></h2>\n",
    "<p>Because pandas is built on top of NumPy and works smoothly with NumPy arrays and operations, we can use NumPy functions to improve our code's performance. Let's use <code>digitize()</code>. Similarly to pandas' <code>.isin()</code>, it bins the data, but by an array of indices representing which bin each hour belongs to. Then, these indices are applied to a prices array.</p>"
   ]
  },
  {
   "cell_type": "code",
   "execution_count": 26,
   "metadata": {},
   "outputs": [],
   "source": [
    "@timeit(repeat=3, number=10)\n",
    "def apply_tariff_digitize(df):\n",
    "    prices = np.array([12, 20, 28])\n",
    "    bins = np.digitize(df.index.hour.values, bins=[7, 17, 24])\n",
    "    df[\"cost_cents\"] = prices[bins] * df[\"energy_kwh\"].values"
   ]
  },
  {
   "cell_type": "code",
   "execution_count": 27,
   "metadata": {},
   "outputs": [
    {
     "name": "stdout",
     "output_type": "stream",
     "text": [
      "Best of 3 trials with 10 function calls per trial:\n",
      "Function `apply_tariff_digitize` ran in average of 0.001 seconds\n",
      "\n"
     ]
    }
   ],
   "source": [
    "apply_tariff_digitize(df)"
   ]
  },
  {
   "attachments": {},
   "cell_type": "markdown",
   "metadata": {},
   "source": [
    "<p>Ok, another relevant yet increasingly marginal improvement, which is expected. I believe we can wrap it up now and review what we have done so far. We can do this by reviewing the <a href=\"https://stackoverflow.com/a/24871316/7954504\">hierarchy of calculations defined by a pandas developer</a>:\n",
    "<style>\n",
    "  .callout {\n",
    "    border: 1px solid #444;\n",
    "    background-color: #333;\n",
    "    padding: 10px;\n",
    "    margin: 20px;\n",
    "    border-radius: 5px;\n",
    "    box-shadow: 0px 0px 5px rgba(255, 255, 255, 0.2);\n",
    "  }\n",
    "</style>\n",
    "</head>\n",
    "<body>\n",
    "\n",
    "<div class=\"callout\">\n",
    "\n",
    "   <h3><b>Batch calculations</b> | From fastest to slowest (and most to least flexible)</h3>\n",
    "<ol>\n",
    "<li><b>Vectorized operations</b>. Pandas methods and functions with no <code>for</code> loops.</li>\n",
    "<li><code>.apply()</code> method with a callable.</li>\n",
    "<li><code>.itertuples()</code>. Iterate over DataFrame rows as <code>namedtuples</code> from Python's <code>collection</code> module.</li>\n",
    "<li><code>.iterrows()</code>. Iterate over DataFrame rows as (index, <code>pd.Series</code>) pairs. While a pandas Series can be a flexible data structure, it can be costly to construct each row into a Series and then access it.</li>\n",
    "<li><b>\"Element-by-element\" for loops</b>, updating each cell or row one at a time with <code>df.loc</code> or <code>df.iloc</code>.</li>\n",
    "</ol>\n",
    "  </p>\n",
    "</div>\n",
    "\n",
    "<hr>\n",
    "<h2><b>10. Prevent Reprocessing with HDFStore</b></h2>\n",
    "<p>We can now take a look at ways to avoid reprocessing time with <a href=\"https://portal.hdfgroup.org/display/HDF5/HDF5\">HDF5</a> - data model, library, and file format for storing and managing data that supports an unlimited variety of datatype  and is designed for flexible and efficient I/O and for high volume and complex data.</p>\n",
    "<p>Consider the scenario of a very large dataset and the need of preprocessing our data constantly. If we had 10 years of minute-frequency electricity data, for instance, converting the date and time to dateime could take 20 minutes even when specifying the format in the parameter as we did.</p>\n",
    "<p>Instead of preprocessing the whole dataset everytime we run it, we can do it once and store our data in its processed - if we were to save it as CSV, we would lose our datetime objects and have to do the whole thing again. And how to do this? Well, pandas has a built-in solution which uses <b>HDF5</b>! We can store our DataFrames in an HDF5 file so that it can be accessed efficiently, while still retaining column types and other metadata. It is alike a dictionary-class, so you can read and write just as you would do for any other Python <code>dict</code> object.</p>\n",
    "<p>We can store our preprocessed DataFrame <code>df</code> in a HDF5 file as it follows.</p>\n",
    "\n"
   ]
  },
  {
   "cell_type": "code",
   "execution_count": 28,
   "metadata": {},
   "outputs": [],
   "source": [
    "# Create stprage object with filename `processed_data`\n",
    "data_store = pd.HDFStore('processed_data.h5')\n",
    "\n",
    "# Put DataFrame into the object setting the key as 'preprocessed_df'\n",
    "data_store[\"preprocessed_df\"] = df\n",
    "data_store.close()"
   ]
  },
  {
   "cell_type": "markdown",
   "metadata": {},
   "source": [
    "<p>Now, our processed data will be stored in the HDF5 that we created - no need to run the whole thing again! Very, very cool!"
   ]
  },
  {
   "cell_type": "code",
   "execution_count": 29,
   "metadata": {},
   "outputs": [],
   "source": [
    "# Acess data store\n",
    "data_store = pd.HDFStore(f\"{data_out}processed_data.h5\")\n",
    "\n",
    "# Retrieve data using key\n",
    "preprocessed_df = data_store[\"preprocessed_df\"]\n",
    "data_store.close()"
   ]
  },
  {
   "cell_type": "markdown",
   "metadata": {},
   "source": [
    "<p>You can store multiple tables in it, using the name of each as the key.</p>\n",
    "<hr>\n",
    "<h2><b>11. Conclusions</b></h2>\n",
    "<p>In this notebook, we saw how we should think pandas as a powerful, fast, and flexible tool. As data analysts jumping into the world of Python, we are not given the time to understand how pandas behaves and works differently than Pythonic logic - we just use both together expecting the best result. As the author of this lesson has shown, that is not the case <b>at all</b>. Instead of getting frustrated with the library when dealing with larger datasets, we can apply some rules of thumbs that will make improvements ro runtime and code readability:</p>\n",
    "<ul>\n",
    "<li>Try to use <b>vectorized operations</b> whenever possible. If your using too many <b>for</b> loops, maybe you should consider working with Python native structures.</li>\n",
    "<li>If you hae more complex operations in which vectorization is not an option or not the most efficient option, try to use <code>.apply()</code>.</li>\n",
    "<li>If you need to loop over your array, use <code>.iterrows()</code> or <code>.itertuples()</code>.</li>\n",
    "<li>Keep in mind that there are lot of ways to accomplish the same result in pandas, so think about the one that works best in the context of your project.</li>\n",
    "<li>Once you've got a data cleaning script built, avoid reprocessing by storing your intermediate results with HDFStore.</li>\n",
    "<li>Integrating NumPy into pandas oeprations can often improve speed and simplify syntax.</li>\n",
    "</ul>\n",
    "<p>And that was it! That was a great tutorial by <a href=\"https://realpython.com/team/jwyndham/\">Joe Wyndham</a>, whom I thank once again for putting together such valuable lesson!"
   ]
  }
 ],
 "metadata": {
  "kernelspec": {
   "display_name": "pandas_notes",
   "language": "python",
   "name": "python3"
  },
  "language_info": {
   "codemirror_mode": {
    "name": "ipython",
    "version": 3
   },
   "file_extension": ".py",
   "mimetype": "text/x-python",
   "name": "python",
   "nbconvert_exporter": "python",
   "pygments_lexer": "ipython3",
   "version": "3.10.3"
  },
  "orig_nbformat": 4
 },
 "nbformat": 4,
 "nbformat_minor": 2
}

{
 "cells": [
  {
   "attachments": {},
   "cell_type": "markdown",
   "metadata": {},
   "source": [
    "<h1><b>Fast, Flexible, Easy and Intuitive: How to Speed Up Your pandas Projects</b></h1>\n",
    "<p>In this notebook, I will be covering an important concept that users must know once they get acquainted with Pandas: the <code>SettingWithCopyWarning</code> issue. As a beginner, I would often disregard this sign as the outcome of the code would not necessarily change (apparently). Now, there are <b>shallow copies</b> and <b>deep copies</b>, notions that are related to the aforementioned warning. I'll discuss the difference between these concepts as well as assessing the impact of their use in data analysis.</p>\n",
    "<p>By the end of this notebook, I hope to have covered the following topics:</p>\n",
    "<ul>\n",
    "    <li>The definition of <b>views</b> and <b>copies</b> in NumPy and Pandas</li>\n",
    "    <li>How to work with views and copies in these libraries</li>\n",
    "    <li>Why <code>SettingWithCopyWarning</code> happens in Pandas</li>\n",
    "    <li>How to avoid getting a <code>SettingWithCopyWarning</code> in Pandas</li>\n",
    "</ul>"
   ]
  },
  {
   "cell_type": "code",
   "execution_count": 18,
   "metadata": {},
   "outputs": [],
   "source": [
    "import pandas as pd\n",
    "import os\n",
    "import time\n",
    "import functools\n",
    "import gc\n",
    "import itertools\n",
    "import sys\n",
    "from timeit import default_timer as _timer"
   ]
  },
  {
   "cell_type": "code",
   "execution_count": 19,
   "metadata": {},
   "outputs": [
    {
     "name": "stdout",
     "output_type": "stream",
     "text": [
      "c:\\Users\\Felipe\\python_work\\notebooks\\py_pandas\\8_fast_flexible_pandas\n"
     ]
    }
   ],
   "source": [
    "path = os.getcwd()\n",
    "print(os.getcwd())"
   ]
  },
  {
   "cell_type": "code",
   "execution_count": 20,
   "metadata": {},
   "outputs": [],
   "source": [
    "data_repo = f\"{path}/data/\"\n",
    "data_in = f\"{data_repo}raw/\""
   ]
  },
  {
   "cell_type": "code",
   "execution_count": 21,
   "metadata": {},
   "outputs": [],
   "source": [
    "df = pd.read_csv(f\"{data_in}demand_profile.csv\")"
   ]
  },
  {
   "cell_type": "code",
   "execution_count": 22,
   "metadata": {},
   "outputs": [
    {
     "data": {
      "text/html": [
       "<div>\n",
       "<style scoped>\n",
       "    .dataframe tbody tr th:only-of-type {\n",
       "        vertical-align: middle;\n",
       "    }\n",
       "\n",
       "    .dataframe tbody tr th {\n",
       "        vertical-align: top;\n",
       "    }\n",
       "\n",
       "    .dataframe thead th {\n",
       "        text-align: right;\n",
       "    }\n",
       "</style>\n",
       "<table border=\"1\" class=\"dataframe\">\n",
       "  <thead>\n",
       "    <tr style=\"text-align: right;\">\n",
       "      <th></th>\n",
       "      <th>date_time</th>\n",
       "      <th>energy_kwh</th>\n",
       "    </tr>\n",
       "  </thead>\n",
       "  <tbody>\n",
       "    <tr>\n",
       "      <th>0</th>\n",
       "      <td>1/1/13 0:00</td>\n",
       "      <td>0.586</td>\n",
       "    </tr>\n",
       "    <tr>\n",
       "      <th>1</th>\n",
       "      <td>1/1/13 1:00</td>\n",
       "      <td>0.580</td>\n",
       "    </tr>\n",
       "    <tr>\n",
       "      <th>2</th>\n",
       "      <td>1/1/13 2:00</td>\n",
       "      <td>0.572</td>\n",
       "    </tr>\n",
       "    <tr>\n",
       "      <th>3</th>\n",
       "      <td>1/1/13 3:00</td>\n",
       "      <td>0.596</td>\n",
       "    </tr>\n",
       "    <tr>\n",
       "      <th>4</th>\n",
       "      <td>1/1/13 4:00</td>\n",
       "      <td>0.592</td>\n",
       "    </tr>\n",
       "  </tbody>\n",
       "</table>\n",
       "</div>"
      ],
      "text/plain": [
       "     date_time  energy_kwh\n",
       "0  1/1/13 0:00       0.586\n",
       "1  1/1/13 1:00       0.580\n",
       "2  1/1/13 2:00       0.572\n",
       "3  1/1/13 3:00       0.596\n",
       "4  1/1/13 4:00       0.592"
      ]
     },
     "execution_count": 22,
     "metadata": {},
     "output_type": "execute_result"
    }
   ],
   "source": [
    "df.head()"
   ]
  },
  {
   "cell_type": "code",
   "execution_count": 23,
   "metadata": {},
   "outputs": [
    {
     "data": {
      "text/plain": [
       "date_time      object\n",
       "energy_kwh    float64\n",
       "dtype: object"
      ]
     },
     "execution_count": 23,
     "metadata": {},
     "output_type": "execute_result"
    }
   ],
   "source": [
    "df.dtypes"
   ]
  },
  {
   "cell_type": "code",
   "execution_count": 24,
   "metadata": {},
   "outputs": [
    {
     "data": {
      "text/plain": [
       "dtype('O')"
      ]
     },
     "execution_count": 24,
     "metadata": {},
     "output_type": "execute_result"
    }
   ],
   "source": [
    "# df[\"date_time\"] = pd.to_datetime(df[\"date_time\"])\n",
    "df[\"date_time\"].dtype"
   ]
  },
  {
   "cell_type": "code",
   "execution_count": 25,
   "metadata": {},
   "outputs": [
    {
     "data": {
      "text/html": [
       "<div>\n",
       "<style scoped>\n",
       "    .dataframe tbody tr th:only-of-type {\n",
       "        vertical-align: middle;\n",
       "    }\n",
       "\n",
       "    .dataframe tbody tr th {\n",
       "        vertical-align: top;\n",
       "    }\n",
       "\n",
       "    .dataframe thead th {\n",
       "        text-align: right;\n",
       "    }\n",
       "</style>\n",
       "<table border=\"1\" class=\"dataframe\">\n",
       "  <thead>\n",
       "    <tr style=\"text-align: right;\">\n",
       "      <th></th>\n",
       "      <th>date_time</th>\n",
       "      <th>energy_kwh</th>\n",
       "    </tr>\n",
       "  </thead>\n",
       "  <tbody>\n",
       "    <tr>\n",
       "      <th>0</th>\n",
       "      <td>1/1/13 0:00</td>\n",
       "      <td>0.586</td>\n",
       "    </tr>\n",
       "    <tr>\n",
       "      <th>1</th>\n",
       "      <td>1/1/13 1:00</td>\n",
       "      <td>0.580</td>\n",
       "    </tr>\n",
       "    <tr>\n",
       "      <th>2</th>\n",
       "      <td>1/1/13 2:00</td>\n",
       "      <td>0.572</td>\n",
       "    </tr>\n",
       "    <tr>\n",
       "      <th>3</th>\n",
       "      <td>1/1/13 3:00</td>\n",
       "      <td>0.596</td>\n",
       "    </tr>\n",
       "    <tr>\n",
       "      <th>4</th>\n",
       "      <td>1/1/13 4:00</td>\n",
       "      <td>0.592</td>\n",
       "    </tr>\n",
       "  </tbody>\n",
       "</table>\n",
       "</div>"
      ],
      "text/plain": [
       "     date_time  energy_kwh\n",
       "0  1/1/13 0:00       0.586\n",
       "1  1/1/13 1:00       0.580\n",
       "2  1/1/13 2:00       0.572\n",
       "3  1/1/13 3:00       0.596\n",
       "4  1/1/13 4:00       0.592"
      ]
     },
     "execution_count": 25,
     "metadata": {},
     "output_type": "execute_result"
    }
   ],
   "source": [
    "df.head()"
   ]
  },
  {
   "cell_type": "code",
   "execution_count": 26,
   "metadata": {},
   "outputs": [
    {
     "name": "stdout",
     "output_type": "stream",
     "text": [
      "Best of 3 trials with 10 function calls per trial:\n",
      "Function `convert` ran in average of 0.679 seconds\n",
      "\n"
     ]
    }
   ],
   "source": [
    "# def timeit(func):\n",
    "#     def wrapper(*args, **kwargs):\n",
    "#         start_time = time.time()\n",
    "#         result = func(*args, **kwargs)\n",
    "#         end_time = time.time()\n",
    "#         execution_time = end_time - start_time\n",
    "#         print(f\"Execution time: {execution_time} seconds\")\n",
    "#         return result\n",
    "#     return wrapper\n",
    "\n",
    "\n",
    "def timeit(_func=None, *, repeat=3, number=1000, file=sys.stdout):\n",
    "    \"\"\"Decorator: prints time from best of `repeat` trials.\n",
    "    Mimics `timeit.repeat()`, but avg. time is printed.\n",
    "    Returns function result and prints time.\n",
    "\n",
    "    You can decorate with or without parentheses, as in\n",
    "    Python's @dataclass class decorator,\n",
    "\n",
    "    kwargs are passed to `print()`.\n",
    "\n",
    "    >>> @timeit\n",
    "    ... def f():\n",
    "    ...     return \"-\".join(str(n) for n in range(100))\n",
    "    ...\n",
    "    >>> @timeit(number=100000)\n",
    "    ... def g():\n",
    "    ...     return \"-\".join(str(n) for n in range(10))\n",
    "    ...\n",
    "    \"\"\"\n",
    "\n",
    "    _repeat = functools.partial(itertools.repeat, None)\n",
    "\n",
    "    def wrap(func):\n",
    "        @functools.wraps(func)\n",
    "        def _timeit(*args, **kwargs):\n",
    "            # Temporarily turn off garbage collection during the timing.\n",
    "            # Makes independent timings more comparable.\n",
    "            # If it was originally enabled, switch it back on afterwards.\n",
    "            gcold = gc.isenabled()\n",
    "            gc.disable()\n",
    "\n",
    "            try:\n",
    "                # Outer loop - the number of repeats.\n",
    "                trials = []\n",
    "                for _ in _repeat(repeat):\n",
    "                    # Inner loop - the number of calls within each repeat.\n",
    "                    total = 0\n",
    "                    for _ in _repeat(number):\n",
    "                        start = _timer()\n",
    "                        result = func(*args, **kwargs)\n",
    "                        end = _timer()\n",
    "                        total += end - start\n",
    "                    trials.append(total)\n",
    "                \n",
    "                # We want the *average_time* from the *best* trial\n",
    "                # For more on this methodology, see the docs for\n",
    "                # Python's `timeit` module.\n",
    "                # \n",
    "                # \"In a typical casem the lowest value gives a lower bound\n",
    "                # for how fast your machine can run the given code snippet;\n",
    "                # higher values in the result vector are typically not\n",
    "                # caused by variability in Python's speed, but by other\n",
    "                # processes interfering with your timing accuracy.\"\n",
    "                best = min(trials) / number\n",
    "                print(\n",
    "                    \"Best of {} trials with {} function\"\n",
    "                    \" calls per trial:\".format(repeat, number)\n",
    "                )\n",
    "\n",
    "                print(\n",
    "                    \"Function `{}` ran in average\"\n",
    "                    \" of {:0.3f} seconds\".format(func.__name__, best),\n",
    "                    end=\"\\n\\n\",\n",
    "                    file=file,\n",
    "                )\n",
    "            finally:\n",
    "                if gcold:\n",
    "                    gc.enable()\n",
    "            # Result is returned only once\n",
    "            return result\n",
    "        \n",
    "        return _timeit\n",
    "    \n",
    "    # Syntax trick from Python @dataclass\n",
    "    if _func is None:\n",
    "        return wrap\n",
    "    else:\n",
    "        return wrap(_func)\n",
    "\n",
    "\n",
    "@timeit(repeat=3, number=10)\n",
    "def convert(df, column_name):\n",
    "    return pd.to_datetime(df[column_name])\n",
    "\n",
    "# Read it again so that we have `object` dtype to start\n",
    "df['date_time'] = convert(df, 'date_time')"
   ]
  },
  {
   "cell_type": "code",
   "execution_count": 28,
   "metadata": {},
   "outputs": [
    {
     "name": "stdout",
     "output_type": "stream",
     "text": [
      "Best of 3 trials with 100 function calls per trial:\n",
      "Function `convert_with_format` ran in average of 0.005 seconds\n",
      "\n"
     ]
    }
   ],
   "source": [
    "@timeit(repeat=3, number=100)\n",
    "def convert_with_format(df, column_name):\n",
    "    return pd.to_datetime(df[column_name],\n",
    "                          format=\"%d%m%y %H:%M\")\n",
    "\n",
    "df[\"date_time\"] = convert_with_format(df, \"date_time\")"
   ]
  },
  {
   "cell_type": "code",
   "execution_count": null,
   "metadata": {},
   "outputs": [],
   "source": []
  }
 ],
 "metadata": {
  "kernelspec": {
   "display_name": "pandas_notes",
   "language": "python",
   "name": "python3"
  },
  "language_info": {
   "codemirror_mode": {
    "name": "ipython",
    "version": 3
   },
   "file_extension": ".py",
   "mimetype": "text/x-python",
   "name": "python",
   "nbconvert_exporter": "python",
   "pygments_lexer": "ipython3",
   "version": "3.10.3"
  },
  "orig_nbformat": 4
 },
 "nbformat": 4,
 "nbformat_minor": 2
}
